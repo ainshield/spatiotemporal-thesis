{
 "cells": [
  {
   "cell_type": "code",
   "execution_count": 2,
   "metadata": {},
   "outputs": [],
   "source": [
    "import geopandas as gpd\n",
    "import pandas as pd\n",
    "import pickle \n",
    "\n",
    "# read the shapefile into a GeoDataFrame\n",
    "shp = gpd.read_file('phl_adminboundaries_candidate_adm3\\\\phl_admbnda_adm3_psa_namria_20200529.shp')\n",
    "\n",
    "# convert the GeoDataFrame into a Pandas data frame\n",
    "df = pd.DataFrame(shp)\n",
    "\n",
    "# pickle the data frame\n",
    "df.to_pickle('shpfile.pkl')"
   ]
  }
 ],
 "metadata": {
  "kernelspec": {
   "display_name": "base",
   "language": "python",
   "name": "python3"
  },
  "language_info": {
   "codemirror_mode": {
    "name": "ipython",
    "version": 3
   },
   "file_extension": ".py",
   "mimetype": "text/x-python",
   "name": "python",
   "nbconvert_exporter": "python",
   "pygments_lexer": "ipython3",
   "version": "3.9.12 (main, Apr  4 2022, 05:22:27) [MSC v.1916 64 bit (AMD64)]"
  },
  "orig_nbformat": 4,
  "vscode": {
   "interpreter": {
    "hash": "6e4a38a8137c1a4cb4c7901223266b1dfbc056b248676f3e6576fa0f54bd3eb8"
   }
  }
 },
 "nbformat": 4,
 "nbformat_minor": 2
}
